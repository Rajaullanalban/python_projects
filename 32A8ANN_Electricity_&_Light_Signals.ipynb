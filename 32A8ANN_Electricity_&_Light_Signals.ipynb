{
  "nbformat": 4,
  "nbformat_minor": 0,
  "metadata": {
    "colab": {
      "provenance": [],
      "include_colab_link": true
    },
    "kernelspec": {
      "name": "python3",
      "display_name": "Python 3"
    },
    "language_info": {
      "name": "python"
    }
  },
  "cells": [
    {
      "cell_type": "markdown",
      "metadata": {
        "id": "view-in-github",
        "colab_type": "text"
      },
      "source": [
        "<a href=\"https://colab.research.google.com/github/Rajaullanalban/python_projects/blob/main/32A8ANN_Electricity_%26_Light_Signals.ipynb\" target=\"_parent\"><img src=\"https://colab.research.google.com/assets/colab-badge.svg\" alt=\"Open In Colab\"/></a>"
      ]
    },
    {
      "cell_type": "markdown",
      "source": [
        "#Example 1: Electrical Signal Processing (EEG/ECG) using ANN\n",
        "\n",
        "Converting electrical into digital signals using Artificial Neural Networks (ANNs) involves signal acquisition, preprocessing, feature extraction, and classification or regression using neural networks"
      ],
      "metadata": {
        "id": "sh1mBYS7KyBh"
      }
    },
    {
      "cell_type": "code",
      "execution_count": null,
      "metadata": {
        "id": "TZrzMYyHKvBJ"
      },
      "outputs": [],
      "source": [
        "import numpy as np\n",
        "import tensorflow as tf\n",
        "from tensorflow.keras.models import Sequential\n",
        "from tensorflow.keras.layers import Dense, Dropout"
      ]
    },
    {
      "cell_type": "code",
      "source": [
        "# Simulated electrical signal data (features)\n",
        "\n",
        "# 1000 samples, 10 features\n",
        "X_train = np.random.rand(1000, 10)\n",
        "\n",
        "# Binary classification (0 or 1)\n",
        "y_train = np.random.randint(0, 2, (1000,))"
      ],
      "metadata": {
        "id": "dZ4hkGmIK2Ec"
      },
      "execution_count": null,
      "outputs": []
    },
    {
      "cell_type": "code",
      "source": [
        "X_train[0:5]"
      ],
      "metadata": {
        "id": "NtoiTWf6Op6Z"
      },
      "execution_count": null,
      "outputs": []
    },
    {
      "cell_type": "code",
      "source": [
        "y_train[0:5]"
      ],
      "metadata": {
        "id": "g7KgFr9fOzb9"
      },
      "execution_count": null,
      "outputs": []
    },
    {
      "cell_type": "code",
      "source": [
        "# ANN Model\n",
        "model = Sequential([\n",
        "    Dense(32,\n",
        "          activation='relu',\n",
        "          input_shape=(10,)),\n",
        "    Dropout(0.2),\n",
        "    Dense(16,\n",
        "          activation='relu'),\n",
        "    Dense(1,\n",
        "          activation='sigmoid')  # Binary classification\n",
        "])\n"
      ],
      "metadata": {
        "id": "YJCQLPr3K4m_"
      },
      "execution_count": null,
      "outputs": []
    },
    {
      "cell_type": "code",
      "source": [
        "model.summary()"
      ],
      "metadata": {
        "id": "VXaWcDm2PGa_"
      },
      "execution_count": null,
      "outputs": []
    },
    {
      "cell_type": "code",
      "source": [
        "model.compile(optimizer='adam',\n",
        "              loss='binary_crossentropy',\n",
        "              metrics=['accuracy'])"
      ],
      "metadata": {
        "id": "3aMDJAtIPFTN"
      },
      "execution_count": null,
      "outputs": []
    },
    {
      "cell_type": "code",
      "source": [
        "model.fit(X_train,\n",
        "          y_train,\n",
        "          epochs=10,\n",
        "          batch_size=32)"
      ],
      "metadata": {
        "id": "5HVXGDNpUX8w"
      },
      "execution_count": null,
      "outputs": []
    },
    {
      "cell_type": "code",
      "source": [
        "from sklearn.metrics import accuracy_score, confusion_matrix,classification_report,precision_score, recall_score, f1_score\n",
        "\n",
        "accuracy_score(y_train,\n",
        "               model.predict(X_train) > 0.5)"
      ],
      "metadata": {
        "id": "8OyMEmWeNyBc"
      },
      "execution_count": null,
      "outputs": []
    },
    {
      "cell_type": "code",
      "source": [
        "confusion_matrix(y_train,\n",
        "                 model.predict(X_train) > 0.5)"
      ],
      "metadata": {
        "id": "zDTR3naEOBcD"
      },
      "execution_count": null,
      "outputs": []
    },
    {
      "cell_type": "code",
      "source": [
        "print(classification_report(y_train,\n",
        "                            model.predict(X_train) > 0.5))"
      ],
      "metadata": {
        "id": "SljqzFoeOKtw"
      },
      "execution_count": null,
      "outputs": []
    },
    {
      "cell_type": "code",
      "source": [
        "precision_score(y_train,\n",
        "                model.predict(X_train) > 0.5)"
      ],
      "metadata": {
        "id": "Vy0D8rq3OYuo"
      },
      "execution_count": null,
      "outputs": []
    },
    {
      "cell_type": "code",
      "source": [
        "f1_score(y_train,\n",
        "         model.predict(X_train) > 0.5)"
      ],
      "metadata": {
        "id": "ggQxE6JGOcpj"
      },
      "execution_count": null,
      "outputs": []
    },
    {
      "cell_type": "markdown",
      "source": [
        "# Example 2 for Electric Signals"
      ],
      "metadata": {
        "id": "0rz9LtMXSP5x"
      }
    },
    {
      "cell_type": "code",
      "source": [
        "!pip install torch torchvision torchaudio"
      ],
      "metadata": {
        "id": "r8aCgAjdLgsF"
      },
      "execution_count": null,
      "outputs": []
    },
    {
      "cell_type": "code",
      "source": [
        "import torch\n",
        "import torch.nn as nn\n",
        "import torch.optim as optim\n",
        "from torch.utils.data import TensorDataset, DataLoader\n",
        "from sklearn.metrics import accuracy_score, precision_score, recall_score, f1_score\n",
        "import numpy as np"
      ],
      "metadata": {
        "id": "uN8XwWAMLznO"
      },
      "execution_count": null,
      "outputs": []
    },
    {
      "cell_type": "code",
      "source": [
        "# Generate synthetic dataset\n",
        "np.random.seed(42)\n",
        "num_samples = 1000\n",
        "num_features = 10"
      ],
      "metadata": {
        "id": "f92Lf3n6L30o"
      },
      "execution_count": null,
      "outputs": []
    },
    {
      "cell_type": "code",
      "source": [
        "X_train_elec = np.random.rand(num_samples, num_features)\n",
        "y_train_elec = np.random.randint(0, 2, num_samples)\n",
        "\n",
        "X_test_elec = np.random.rand(200, num_features)\n",
        "y_test_elec = np.random.randint(0, 2, 200)"
      ],
      "metadata": {
        "id": "FjSGqvucL6cZ"
      },
      "execution_count": null,
      "outputs": []
    },
    {
      "cell_type": "code",
      "source": [
        "# Convert to PyTorch tensors\n",
        "X_train_elec_tensor = torch.tensor(X_train_elec,\n",
        "                                   dtype=torch.float32)\n",
        "y_train_elec_tensor = torch.tensor(y_train_elec,\n",
        "                                   dtype=torch.float32).unsqueeze(1)\n",
        "\n",
        "X_test_elec_tensor = torch.tensor(X_test_elec,\n",
        "                                  dtype=torch.float32)\n",
        "y_test_elec_tensor = torch.tensor(y_test_elec,\n",
        "                                  dtype=torch.float32).unsqueeze(1)"
      ],
      "metadata": {
        "id": "twPYKdgtMKRU"
      },
      "execution_count": null,
      "outputs": []
    },
    {
      "cell_type": "code",
      "source": [
        "# DataLoader\n",
        "batch_size = 32"
      ],
      "metadata": {
        "id": "R7MHi6STMQCL"
      },
      "execution_count": null,
      "outputs": []
    },
    {
      "cell_type": "code",
      "source": [
        "train_loader_elec = DataLoader(TensorDataset(X_train_elec_tensor,\n",
        "                                             y_train_elec_tensor),\n",
        "                                batch_size=batch_size,\n",
        "                               shuffle=True)"
      ],
      "metadata": {
        "id": "21QElLrHMUwF"
      },
      "execution_count": null,
      "outputs": []
    },
    {
      "cell_type": "code",
      "source": [
        "# Define Electrical Signal Neural Network (Binary Classification)\n",
        "class ElecNet(nn.Module):\n",
        "    def __init__(self):\n",
        "        super(ElecNet, self).__init__()\n",
        "        self.fc1 = nn.Linear(num_features, 16)\n",
        "        self.fc2 = nn.Linear(16, 8)\n",
        "        self.fc3 = nn.Linear(8, 1)\n",
        "        self.relu = nn.ReLU()\n",
        "        self.sigmoid = nn.Sigmoid()\n",
        "\n",
        "    def forward(self, x):\n",
        "        x = self.relu(self.fc1(x))\n",
        "        x = self.relu(self.fc2(x))\n",
        "        x = self.sigmoid(self.fc3(x))\n",
        "        return x"
      ],
      "metadata": {
        "id": "jns7YIo0MYMP"
      },
      "execution_count": null,
      "outputs": []
    },
    {
      "cell_type": "code",
      "source": [
        "# Initialize models\n",
        "model_elec = ElecNet()"
      ],
      "metadata": {
        "id": "VeQpz64RMej-"
      },
      "execution_count": null,
      "outputs": []
    },
    {
      "cell_type": "code",
      "source": [
        "# Define loss functions and optimizers\n",
        "# Binary cross-entropy for electrical signals\n",
        "criterion_elec = nn.BCELoss()\n",
        "\n",
        "optimizer_elec = optim.Adam(model_elec.parameters(), lr=0.01)"
      ],
      "metadata": {
        "id": "qgXJ5smYMiFP"
      },
      "execution_count": null,
      "outputs": []
    },
    {
      "cell_type": "code",
      "source": [
        "# Training Loop for Electrical Signal Model\n",
        "epochs = 10\n",
        "\n",
        "for epoch in range(epochs):\n",
        "    for inputs, labels in train_loader_elec:\n",
        "        optimizer_elec.zero_grad()\n",
        "        outputs = model_elec(inputs)\n",
        "        loss = criterion_elec(outputs, labels)\n",
        "        loss.backward()\n",
        "        optimizer_elec.step()"
      ],
      "metadata": {
        "id": "VAvTLBPAMm6E"
      },
      "execution_count": null,
      "outputs": []
    },
    {
      "cell_type": "code",
      "source": [
        "# Evaluate Electrical Signal Model\n",
        "with torch.no_grad():\n",
        "    y_pred_elec_pytorch = (model_elec(X_test_elec_tensor) > 0.5).float().numpy()"
      ],
      "metadata": {
        "id": "hkQdBLt-MtLP"
      },
      "execution_count": null,
      "outputs": []
    },
    {
      "cell_type": "code",
      "source": [
        "elec_accuracy_pytorch = accuracy_score(y_test_elec,\n",
        "                                       y_pred_elec_pytorch)\n",
        "elec_precision_pytorch = precision_score(y_test_elec,\n",
        "                                         y_pred_elec_pytorch)\n",
        "elec_recall_pytorch = recall_score(y_test_elec,\n",
        "                                   y_pred_elec_pytorch)\n",
        "elec_f1_pytorch = f1_score(y_test_elec,\n",
        "                           y_pred_elec_pytorch)\n"
      ],
      "metadata": {
        "id": "0GVvWXHOMwCG"
      },
      "execution_count": null,
      "outputs": []
    },
    {
      "cell_type": "code",
      "source": [
        "# Print results\n",
        "print(\"Electrical Signal Model (PyTorch):\")\n",
        "print(f\"  Accuracy: {elec_accuracy_pytorch:.2f}\")\n",
        "print(f\"  Precision: {elec_precision_pytorch:.2f}\")\n",
        "print(f\"  Recall: {elec_recall_pytorch:.2f}\")\n",
        "print(f\"  F1-Score: {elec_f1_pytorch:.2f}\")\n"
      ],
      "metadata": {
        "id": "-GNlw30UM2-T"
      },
      "execution_count": null,
      "outputs": []
    },
    {
      "cell_type": "markdown",
      "source": [
        "#Example 3: Light Signal Processing (Image to Digital) using ANN"
      ],
      "metadata": {
        "id": "nqtqLj3XLCS5"
      }
    },
    {
      "cell_type": "code",
      "source": [
        "import torch\n",
        "import torch.nn as nn\n",
        "import torch.optim as optim\n",
        "from torch.utils.data import TensorDataset, DataLoader\n",
        "from sklearn.metrics import accuracy_score, precision_score, recall_score, f1_score\n",
        "import numpy as np"
      ],
      "metadata": {
        "id": "HQpX7CXUR51T"
      },
      "execution_count": null,
      "outputs": []
    },
    {
      "cell_type": "code",
      "source": [
        "# Generate synthetic dataset\n",
        "np.random.seed(42)\n",
        "num_samples = 1000\n",
        "num_features = 10"
      ],
      "metadata": {
        "id": "1-Q6jr0YR51U"
      },
      "execution_count": null,
      "outputs": []
    },
    {
      "cell_type": "code",
      "source": [
        "X_train_light = np.random.rand(num_samples, num_features)\n",
        "y_train_light = np.random.randint(0, 3, num_samples)\n",
        "X_test_light = np.random.rand(200, num_features)\n",
        "y_test_light = np.random.randint(0, 3, 200)"
      ],
      "metadata": {
        "id": "DTP0ACPGMGu0"
      },
      "execution_count": null,
      "outputs": []
    },
    {
      "cell_type": "code",
      "source": [
        "X_train_light_tensor = torch.tensor(X_train_light,\n",
        "                                    dtype=torch.float32)\n",
        "y_train_light_tensor = torch.tensor(y_train_light,\n",
        "                                    dtype=torch.long)\n",
        "X_test_light_tensor = torch.tensor(X_test_light,\n",
        "                                   dtype=torch.float32)\n",
        "y_test_light_tensor = torch.tensor(y_test_light,\n",
        "                                   dtype=torch.long)\n"
      ],
      "metadata": {
        "id": "P1KNNps5MN-W"
      },
      "execution_count": null,
      "outputs": []
    },
    {
      "cell_type": "code",
      "source": [
        "# DataLoader\n",
        "batch_size = 32"
      ],
      "metadata": {
        "id": "6Lan7B9pQs6m"
      },
      "execution_count": null,
      "outputs": []
    },
    {
      "cell_type": "code",
      "source": [
        "train_loader_light = DataLoader(TensorDataset(X_train_light_tensor,\n",
        "                                              y_train_light_tensor),\n",
        "                                batch_size=batch_size,\n",
        "                                shuffle=True)"
      ],
      "metadata": {
        "id": "TAMRWHSyMTsn"
      },
      "execution_count": null,
      "outputs": []
    },
    {
      "cell_type": "code",
      "source": [
        "# Define Light Signal Neural Network (Multi-Class Classification)\n",
        "class LightNet(nn.Module):\n",
        "    def __init__(self):\n",
        "        super(LightNet, self).__init__()\n",
        "        self.fc1 = nn.Linear(num_features, 16)\n",
        "        self.fc2 = nn.Linear(16, 8)\n",
        "        self.fc3 = nn.Linear(8, 3)\n",
        "        self.relu = nn.ReLU()\n",
        "\n",
        "    def forward(self, x):\n",
        "        x = self.relu(self.fc1(x))\n",
        "        x = self.relu(self.fc2(x))\n",
        "        x = self.fc3(x)  # No softmax, handled by loss function\n",
        "        return x"
      ],
      "metadata": {
        "id": "0YuY2IiyMb_3"
      },
      "execution_count": null,
      "outputs": []
    },
    {
      "cell_type": "code",
      "source": [
        "model_light = LightNet()"
      ],
      "metadata": {
        "id": "Fb_Y1J0UPxOo"
      },
      "execution_count": null,
      "outputs": []
    },
    {
      "cell_type": "code",
      "source": [
        "# Cross-entropy for multi-class classification\n",
        "criterion_light = nn.CrossEntropyLoss()\n",
        "\n",
        "optimizer_light = optim.Adam(model_light.parameters(), lr=0.01)"
      ],
      "metadata": {
        "id": "2uf1gXS9Mkd7"
      },
      "execution_count": null,
      "outputs": []
    },
    {
      "cell_type": "code",
      "source": [
        "# Training Loop for Light Signal Model\n",
        "for epoch in range(epochs):\n",
        "    for inputs, labels in train_loader_light:\n",
        "        optimizer_light.zero_grad()\n",
        "        outputs = model_light(inputs)\n",
        "        loss = criterion_light(outputs, labels)\n",
        "        loss.backward()\n",
        "        optimizer_light.step()\n"
      ],
      "metadata": {
        "id": "ugjzUMqyMpdI"
      },
      "execution_count": null,
      "outputs": []
    },
    {
      "cell_type": "code",
      "source": [
        "# Evaluate Light Signal Model\n",
        "with torch.no_grad():\n",
        "    y_pred_light_pytorch = torch.argmax(model_light(X_test_light_tensor),\n",
        "                                        axis=1).numpy()\n"
      ],
      "metadata": {
        "id": "rP9ch9dWMyy_"
      },
      "execution_count": null,
      "outputs": []
    },
    {
      "cell_type": "code",
      "source": [
        "light_accuracy_pytorch = accuracy_score(y_test_light,\n",
        "                                        y_pred_light_pytorch)\n",
        "light_precision_pytorch = precision_score(y_test_light,\n",
        "                                          y_pred_light_pytorch,\n",
        "                                          average='weighted')\n",
        "light_recall_pytorch = recall_score(y_test_light,\n",
        "                                    y_pred_light_pytorch,\n",
        "                                    average='weighted')\n",
        "light_f1_pytorch = f1_score(y_test_light,\n",
        "                            y_pred_light_pytorch,\n",
        "                            average='weighted')\n"
      ],
      "metadata": {
        "id": "8RwGmefBM1KO"
      },
      "execution_count": null,
      "outputs": []
    },
    {
      "cell_type": "code",
      "source": [
        "print(\"\\nLight Signal Model (PyTorch):\")\n",
        "print(f\"  Accuracy: {light_accuracy_pytorch:.2f}\")\n",
        "print(f\"  Precision: {light_precision_pytorch:.2f}\")\n",
        "print(f\"  Recall: {light_recall_pytorch:.2f}\")\n",
        "print(f\"  F1-Score: {light_f1_pytorch:.2f}\")"
      ],
      "metadata": {
        "id": "1toX1NrGP07N"
      },
      "execution_count": null,
      "outputs": []
    }
  ]
}